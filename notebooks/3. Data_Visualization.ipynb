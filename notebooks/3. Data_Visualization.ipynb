{
 "cells": [
  {
   "cell_type": "code",
   "execution_count": 6,
   "metadata": {},
   "outputs": [],
   "source": [
    "import pandas as pd\n",
    "import seaborn as sns\n",
    "import matplotlib.pyplot as plt"
   ]
  },
  {
   "cell_type": "code",
   "execution_count": 2,
   "metadata": {},
   "outputs": [],
   "source": [
    "world_bank = pd.read_csv(\"../processed_data/World Bank Indicators.csv\")"
   ]
  },
  {
   "cell_type": "code",
   "execution_count": 3,
   "metadata": {},
   "outputs": [
    {
     "data": {
      "text/html": [
       "<div>\n",
       "<style scoped>\n",
       "    .dataframe tbody tr th:only-of-type {\n",
       "        vertical-align: middle;\n",
       "    }\n",
       "\n",
       "    .dataframe tbody tr th {\n",
       "        vertical-align: top;\n",
       "    }\n",
       "\n",
       "    .dataframe thead th {\n",
       "        text-align: right;\n",
       "    }\n",
       "</style>\n",
       "<table border=\"1\" class=\"dataframe\">\n",
       "  <thead>\n",
       "    <tr style=\"text-align: right;\">\n",
       "      <th></th>\n",
       "      <th>Country Name</th>\n",
       "      <th>Country Code</th>\n",
       "      <th>Year</th>\n",
       "      <th>Crecimiento del PIB (% anual)</th>\n",
       "      <th>Desempleo, total (% de la población activa total) (estimación modelado OIT)</th>\n",
       "      <th>INB per cápita, PPA (a $ internacionales actuales)</th>\n",
       "      <th>INB per cápita, método Atlas (US$ a precios actuales)</th>\n",
       "      <th>INB, PPA (a $ internacionales actuales)</th>\n",
       "      <th>INB, método Atlas (US$ a precios actuales)</th>\n",
       "      <th>Inflación, índice de deflación del PIB (% anual)</th>\n",
       "      <th>PIB (US$ a precios actuales)</th>\n",
       "      <th>Población activa, total</th>\n",
       "    </tr>\n",
       "  </thead>\n",
       "  <tbody>\n",
       "    <tr>\n",
       "      <th>0</th>\n",
       "      <td>Estados Unidos</td>\n",
       "      <td>USA</td>\n",
       "      <td>2000</td>\n",
       "      <td>4.127484</td>\n",
       "      <td>3.992</td>\n",
       "      <td>36800.0</td>\n",
       "      <td>35960.0</td>\n",
       "      <td>1.038390e+13</td>\n",
       "      <td>1.014760e+13</td>\n",
       "      <td>2.235474</td>\n",
       "      <td>1.025230e+13</td>\n",
       "      <td>146729576.0</td>\n",
       "    </tr>\n",
       "    <tr>\n",
       "      <th>1</th>\n",
       "      <td>Estados Unidos</td>\n",
       "      <td>USA</td>\n",
       "      <td>2001</td>\n",
       "      <td>0.998341</td>\n",
       "      <td>4.731</td>\n",
       "      <td>37700.0</td>\n",
       "      <td>36710.0</td>\n",
       "      <td>1.074370e+13</td>\n",
       "      <td>1.046220e+13</td>\n",
       "      <td>2.193425</td>\n",
       "      <td>1.058180e+13</td>\n",
       "      <td>147698388.0</td>\n",
       "    </tr>\n",
       "    <tr>\n",
       "      <th>2</th>\n",
       "      <td>Estados Unidos</td>\n",
       "      <td>USA</td>\n",
       "      <td>2002</td>\n",
       "      <td>1.741695</td>\n",
       "      <td>5.783</td>\n",
       "      <td>38430.0</td>\n",
       "      <td>37310.0</td>\n",
       "      <td>1.105430e+13</td>\n",
       "      <td>1.073270e+13</td>\n",
       "      <td>1.581763</td>\n",
       "      <td>1.093640e+13</td>\n",
       "      <td>148526037.0</td>\n",
       "    </tr>\n",
       "    <tr>\n",
       "      <th>3</th>\n",
       "      <td>Estados Unidos</td>\n",
       "      <td>USA</td>\n",
       "      <td>2003</td>\n",
       "      <td>2.861211</td>\n",
       "      <td>5.989</td>\n",
       "      <td>39740.0</td>\n",
       "      <td>39770.0</td>\n",
       "      <td>1.153030e+13</td>\n",
       "      <td>1.153640e+13</td>\n",
       "      <td>1.857095</td>\n",
       "      <td>1.145820e+13</td>\n",
       "      <td>149140813.0</td>\n",
       "    </tr>\n",
       "    <tr>\n",
       "      <th>4</th>\n",
       "      <td>Estados Unidos</td>\n",
       "      <td>USA</td>\n",
       "      <td>2004</td>\n",
       "      <td>3.798891</td>\n",
       "      <td>5.529</td>\n",
       "      <td>42060.0</td>\n",
       "      <td>43510.0</td>\n",
       "      <td>1.231400e+13</td>\n",
       "      <td>1.274050e+13</td>\n",
       "      <td>2.692212</td>\n",
       "      <td>1.221370e+13</td>\n",
       "      <td>150211571.0</td>\n",
       "    </tr>\n",
       "  </tbody>\n",
       "</table>\n",
       "</div>"
      ],
      "text/plain": [
       "     Country Name Country Code  Year  Crecimiento del PIB (% anual)   \n",
       "0  Estados Unidos          USA  2000                       4.127484  \\\n",
       "1  Estados Unidos          USA  2001                       0.998341   \n",
       "2  Estados Unidos          USA  2002                       1.741695   \n",
       "3  Estados Unidos          USA  2003                       2.861211   \n",
       "4  Estados Unidos          USA  2004                       3.798891   \n",
       "\n",
       "   Desempleo, total (% de la población activa total) (estimación modelado OIT)   \n",
       "0                                              3.992                            \\\n",
       "1                                              4.731                             \n",
       "2                                              5.783                             \n",
       "3                                              5.989                             \n",
       "4                                              5.529                             \n",
       "\n",
       "   INB per cápita, PPA (a $ internacionales actuales)   \n",
       "0                                            36800.0   \\\n",
       "1                                            37700.0    \n",
       "2                                            38430.0    \n",
       "3                                            39740.0    \n",
       "4                                            42060.0    \n",
       "\n",
       "   INB per cápita, método Atlas (US$ a precios actuales)   \n",
       "0                                            35960.0      \\\n",
       "1                                            36710.0       \n",
       "2                                            37310.0       \n",
       "3                                            39770.0       \n",
       "4                                            43510.0       \n",
       "\n",
       "   INB, PPA (a $ internacionales actuales)   \n",
       "0                             1.038390e+13  \\\n",
       "1                             1.074370e+13   \n",
       "2                             1.105430e+13   \n",
       "3                             1.153030e+13   \n",
       "4                             1.231400e+13   \n",
       "\n",
       "   INB, método Atlas (US$ a precios actuales)   \n",
       "0                                1.014760e+13  \\\n",
       "1                                1.046220e+13   \n",
       "2                                1.073270e+13   \n",
       "3                                1.153640e+13   \n",
       "4                                1.274050e+13   \n",
       "\n",
       "   Inflación, índice de deflación del PIB (% anual)   \n",
       "0                                          2.235474  \\\n",
       "1                                          2.193425   \n",
       "2                                          1.581763   \n",
       "3                                          1.857095   \n",
       "4                                          2.692212   \n",
       "\n",
       "   PIB (US$ a precios actuales)  Población activa, total  \n",
       "0                  1.025230e+13              146729576.0  \n",
       "1                  1.058180e+13              147698388.0  \n",
       "2                  1.093640e+13              148526037.0  \n",
       "3                  1.145820e+13              149140813.0  \n",
       "4                  1.221370e+13              150211571.0  "
      ]
     },
     "execution_count": 3,
     "metadata": {},
     "output_type": "execute_result"
    }
   ],
   "source": [
    "world_bank.head()"
   ]
  },
  {
   "cell_type": "code",
   "execution_count": 8,
   "metadata": {},
   "outputs": [
    {
     "data": {
      "image/png": "[encoded data removed]",
      "text/plain": [
       "<Figure size 640x480 with 1 Axes>"
      ]
     },
     "metadata": {},
     "output_type": "display_data"
    }
   ],
   "source": [
    "sns.scatterplot(data=world_bank[world_bank[\"Country Code\"] != \"WLD\"], x=\"Población activa, total\", y = \"PIB (US$ a precios actuales)\", hue =\"Country Code\")\n",
    "plt.savefig(\"../visualizations/gdp-population-scatterplot.png\")"
   ]
  },
  {
   "cell_type": "code",
   "execution_count": 7,
   "metadata": {},
   "outputs": [
    {
     "data": {
      "text/plain": [
       "<Figure size 640x480 with 0 Axes>"
      ]
     },
     "metadata": {},
     "output_type": "display_data"
    }
   ],
   "source": []
  }
 ],
 "metadata": {
  "kernelspec": {
   "display_name": "data_viz",
   "language": "python",
   "name": "python3"
  },
  "language_info": {
   "codemirror_mode": {
    "name": "ipython",
    "version": 3
   },
   "file_extension": ".py",
   "mimetype": "text/x-python",
   "name": "python",
   "nbconvert_exporter": "python",
   "pygments_lexer": "ipython3",
   "version": "3.10.11"
  },
  "orig_nbformat": 4
 },
 "nbformat": 4,
 "nbformat_minor": 2
}
